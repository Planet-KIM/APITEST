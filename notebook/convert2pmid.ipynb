{
 "cells": [
  {
   "cell_type": "code",
   "execution_count": null,
   "metadata": {},
   "outputs": [
    {
     "name": "stdout",
     "output_type": "stream",
     "text": [
      "37343204\n"
     ]
    }
   ],
   "source": [
    "import requests\n",
    "\n",
    "def fetch_pmc_data(pmc_id, email):\n",
    "    url = \"https://www.ncbi.nlm.nih.gov/pmc/utils/idconv/v1.0/\"\n",
    "    params = {\n",
    "        \"tool\": \"my_tool\",\n",
    "        \"email\": email,\n",
    "        \"ids\": pmc_id,\n",
    "        \"format\": \"json\"\n",
    "    }\n",
    "    \n",
    "    try:\n",
    "        response = requests.get(url, params=params, timeout=10)  # 타임아웃 추가\n",
    "        response.raise_for_status()  # HTTP 에러 발생 시 예외 처리\n",
    "        \n",
    "        data = response.json()\n",
    "        \n",
    "        if not isinstance(data, dict):\n",
    "            raise ValueError(\"Invalid JSON response format\")\n",
    "        \n",
    "        if data.get(\"status\") != \"ok\":\n",
    "            raise ValueError(\"Invalid response status\")\n",
    "        \n",
    "        records = data.get(\"records\", [])\n",
    "        if not isinstance(records, list) or not records:\n",
    "            raise ValueError(\"No records found\")\n",
    "        \n",
    "        pmid = records[0].get(\"pmid\")\n",
    "        if not isinstance(pmid, str):\n",
    "            raise ValueError(\"PMID not found or invalid format\")\n",
    "        \n",
    "        return pmid\n",
    "    \n",
    "    except requests.exceptions.Timeout:\n",
    "        return {\"error\": \"Request timed out\"}\n",
    "    except requests.exceptions.RequestException as e:\n",
    "        return {\"error\": f\"Request failed: {e}\"}\n",
    "    except ValueError as e:\n",
    "        return {\"error\": str(e)}\n",
    "    except Exception as e:\n",
    "        return {\"error\": f\"Unexpected error: {e}\"}\n",
    "\n",
    "def generate_pubmed_link(pmc_id, email):\n",
    "    pmid = fetch_pmc_data(pmc_id, email)\n",
    "    if isinstance(pmid, dict) and \"error\" in pmid:\n",
    "        return pmid  # 오류 반환\n",
    "    return f\"https://pubmed.ncbi.nlm.nih.gov/{pmid}/\"\n",
    "\n",
    "# 사용 예시\n",
    "if __name__ == \"__main__\":\n",
    "    email = \"my_email@example.com\"  # 본인의 이메일로 변경\n",
    "    pmc_id = \"PMC10309506\"\n",
    "    \n",
    "    pubmed_link = generate_pubmed_link(pmc_id, email)\n",
    "    print(pubmed_link)"
   ]
  },
  {
   "cell_type": "code",
   "execution_count": null,
   "metadata": {},
   "outputs": [],
   "source": []
  }
 ],
 "metadata": {
  "kernelspec": {
   "display_name": "portal",
   "language": "python",
   "name": "python3"
  },
  "language_info": {
   "codemirror_mode": {
    "name": "ipython",
    "version": 3
   },
   "file_extension": ".py",
   "mimetype": "text/x-python",
   "name": "python",
   "nbconvert_exporter": "python",
   "pygments_lexer": "ipython3",
   "version": "3.8.12"
  }
 },
 "nbformat": 4,
 "nbformat_minor": 2
}
